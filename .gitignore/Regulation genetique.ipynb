{
 "cells": [
  {
   "cell_type": "markdown",
   "metadata": {},
   "source": [
    "# Exercice 1 : Schéma de Euler\n",
    "## Résolution analytique\n",
    "\n",
    "\n",
    "Soit l'équation différentielle suivante : \n",
    "\n",
    "\n",
    "\\begin{equation}\n",
    "\\frac{dy}{dt} + 100y = 100t + 101\n",
    "\\end{equation}\n",
    "\n",
    "Nous cherchons la solution générale à l'équation :\n",
    "$$\\frac{dy}{dt} = -100y$$\n",
    "$$\\frac{dy}{y} = -100dt$$\n",
    "$$ln(y) = -100t$$\n",
    "$$y = Ae^{-100t}$$\n",
    "\n",
    "Avec A une constante.\\par\n",
    "Pour résoudre cette équation, nous cherchons une fonction particulière de la forme : \n",
    "\n",
    "$$y_p = at + b$$\n",
    "On a donc d'après (1) : \n",
    "\n",
    "\\begin{equation}\n",
    "a + 100(at+b) = 100t+101\n",
    "\\end{equation}\n",
    "\n",
    "$$a + 100at + 100b = 100t + 101$$\n",
    "\n",
    "On identifie alors les facteurs $a$ et $b$ par analogie : $a = 1$ et $b = 1$ :\n",
    "$$ y_p = t+1$$\n",
    "\n",
    "La solution de l'équation (1) est la somme entre la solution générale et la solution particulière : \n",
    "$$y = Ae^{-100t} + 100t +1$$\n",
    "\n",
    "Determinons la constante A : \n",
    "\n",
    "$$y(0) = A + 1$$\n",
    "\n",
    "Nous avons donc $A = y(0) -1$\\par\n",
    "$$y(t) = (y(0)-1)e^{-100t} + t + 1$$\n",
    "\n",
    "Bien qu'ici nous ayons une solution analytique pour l'équation différentielle, nous allons ici étudier le système à l'aide d'un schéma de Euler afin  de pouvoir comparer les solutions numériques et analytiques: \n",
    "\n",
    "## Le schéma : \n",
    "\n",
    "La méthode d'Euler est une méthode permettant de calculer numériquement la solution d'une équation différentielle. La méthode d'Euler consiste à définir une suite $U_i$ qui va prendre les différentes valeurs de $y(t)$. Chaque terme de la suite est calculé à l'aide du précédent ainsi que de la dérivé de la fonction $y$ ($\\frac{dy}{dt}$) en ce point. \n",
    "\n",
    "\\begin{equation}\n",
    "U_{i+1} = U_i + \\frac{y_{i+1}-y_i}{t_{i+1}-t_i}*(t_{i+1}-t_i)\n",
    "\\end{equation}\n",
    "Pour $\\Delta t$ suffisament petit on à : \n",
    "$$U_{i+1} = U_i + \\frac{dy}{dt}dt$$\n",
    "\n",
    "Il ne manque plus qu'a définir les conditions initiales du système $U_0$ ; ce qui correspond au nombre d'animaux au départ. \n",
    "\n",
    "Le code suivant simule le système avec y(0) = 5. Le système est étudié sur l'interval [0;2]. Grâce au schéma d'Euler, 2000 points on été générés sur l'interval [0;2] on a donc un $\\Delta t = 0.1$.\n",
    "\n"
   ]
  },
  {
   "cell_type": "code",
   "execution_count": null,
   "metadata": {},
   "outputs": [],
   "source": [
    "####Importation des librairies\n",
    "import numpy as np\n",
    "import matplotlib.pyplot as plt\n",
    "from scipy.integrate import odeint\n",
    "from math import exp"
   ]
  },
  {
   "cell_type": "code",
   "execution_count": null,
   "metadata": {},
   "outputs": [],
   "source": [
    "#Définition des temps\n",
    "n = 2000\n",
    "t0 = 0\n",
    "tn = 2\n",
    "#Condition initiale\n",
    "y0 = 5"
   ]
  },
  {
   "cell_type": "code",
   "execution_count": null,
   "metadata": {},
   "outputs": [],
   "source": [
    "#Equation différentielle\n",
    "def f(y,t):\n",
    "    dy = -100*y + 100*t + 101\n",
    "    return dy\n",
    "\n",
    "#Solution Analytique\n",
    "def y(t):\n",
    "    y = (y0-1)*exp(-100*t) + t + 1\n",
    "    return y"
   ]
  },
  {
   "cell_type": "markdown",
   "metadata": {},
   "source": [
    "Ici nous définissons premièrement $f(t,y)$ qui représente notre système dynamique. Ainsi que $y(t)$ qui est la solution analytique. Cela nous permettra de comparer les deux solutions obtenue."
   ]
  },
  {
   "cell_type": "code",
   "execution_count": null,
   "metadata": {},
   "outputs": [],
   "source": [
    "#Définition d'une échelle de temps\n",
    "t = [t0]\n",
    "for i in range(n):\n",
    "    t.append(t0 + i*(tn-t0)/n)\n",
    "\n",
    "#Résolution selon la méthode de Euler : \n",
    "#Func : Système dynamique \n",
    "#y0 : Condition initiale\n",
    "#t : list de temps\n",
    "\n",
    "def euler(func,y0,t): \n",
    "    u = [y0]\n",
    "    n = len(t)\n",
    "    for i in range(n-1):\n",
    "        u1 = u[i] + ((t[i+1]-t[i])* func(u[i],t[i]))\n",
    "        u.append(u1)\n",
    "    return u\n",
    "     \n",
    "#Résolution Exacte :\n",
    "a = [y0]\n",
    "for i in range (n):\n",
    "    a.append(y(t[i]))\n",
    "    \n",
    "\n",
    "b = euler(f,y0,t)\n",
    "c = odeint(f,y0,t)"
   ]
  },
  {
   "cell_type": "markdown",
   "metadata": {},
   "source": [
    "Nous avons ainsi calculer l'évolution du système via trois méthodes : \n",
    "A : Solution Analytique\n",
    "B : Schéma de Euler\n",
    "C : OdeInt (Scipy)\n",
    "\n",
    "Nous pouvons alors afficher graphiquement :"
   ]
  },
  {
   "cell_type": "code",
   "execution_count": 24,
   "metadata": {},
   "outputs": [
    {
     "data": {
      "image/png": "[encoded data removed]",
      "text/plain": [
       "<matplotlib.figure.Figure at 0x11868ee80>"
      ]
     },
     "metadata": {},
     "output_type": "display_data"
    }
   ],
   "source": [
    "#Graphique\n",
    "plt.plot(t,a)\n",
    "plt.plot(t,b,'--')\n",
    "plt.plot(t,c,'--')\n",
    "plt.legend([\"Exact\",\"Euler\",\"Odeint\"])\n",
    "plt.title(\"Évolution du nombre d'animaux selon (1) résolue par trois méthodes différentes\")\n",
    "plt.show()"
   ]
  },
  {
   "cell_type": "markdown",
   "metadata": {},
   "source": [
    "Ci-dessous la fonction error nous permet de quantifier l'erreur faite entre la solution numérique et la solution analytique. "
   ]
  },
  {
   "cell_type": "code",
   "execution_count": null,
   "metadata": {
    "scrolled": false
   },
   "outputs": [],
   "source": [
    "def error(a,b):\n",
    "    r = 0\n",
    "    for i in range(len(a)-1):\n",
    "        r = r + (a[i]-b[i])**2\n",
    "    return r\n",
    "\n",
    "print(\"Différence entre la courbe analytique et le schéma d'Euler : \",error(a,b))\n",
    "print(\"Différence entre la courbe analytique et odeint : \",error(a,c)[0])"
   ]
  },
  {
   "cell_type": "markdown",
   "metadata": {},
   "source": [
    "\n",
    "# Exercice 2"
   ]
  },
  {
   "cell_type": "code",
   "execution_count": null,
   "metadata": {},
   "outputs": [],
   "source": [
    "import pylab\n",
    "\n",
    "def champv(function, xm, xM, stx, ym, yM, sty, args=[]):\n",
    "    x_range = np.arange(xm, xM, stx)\n",
    "    y_range = np.arange(ym, yM, sty)\n",
    "    x, y = np.meshgrid(x_range, y_range, sparse=True)\n",
    "    if args == []:\n",
    "        dx = function([x, y], 0)\n",
    "    else:\n",
    "        dx = function([x, y], 0, args)\n",
    "    pylab.close(\"all\")\n",
    "    pylab.quiver(x, y, dx[0], dx[1])\n",
    "    \n",
    "\n",
    "def geneswitch(x,t):\n",
    "    d=1\n",
    "    a=4\n",
    "    b=1\n",
    "    p=4\n",
    "    dx = [0,0]\n",
    "    dx[0] = a/(b**p+x[1]**p)-d*x[0]\n",
    "    dx[1] = a/(b**p+x[0]**p)-d*x[1]\n",
    "    return dx\n",
    "\n",
    "t = np.arange(0., 10., 0.01)\n",
    "N = odeint(geneswitch, [4.,1.], t)\n",
    "pylab.close(\"all\")\n",
    "pylab.plot(t,N[:,0])\n",
    "pylab.plot(t,N[:,1],\"--\")\n",
    "pylab.show()"
   ]
  },
  {
   "cell_type": "code",
   "execution_count": null,
   "metadata": {},
   "outputs": [],
   "source": [
    "pylab.close(\"all\")\n",
    "champv(geneswitch,0,4,0.3,0,4,0.3)\n",
    "N = odeint(geneswitch, [4.,4.], np.arange(0., 100., 0.01))\n",
    "pylab.plot(N[:,0], N[:,1])\n",
    "pylab.show()"
   ]
  },
  {
   "cell_type": "markdown",
   "metadata": {},
   "source": [
    "# Exercice 3"
   ]
  },
  {
   "cell_type": "markdown",
   "metadata": {},
   "source": [
    "Analyse des états d'équilibres du système : \n",
    "\n",
    "$\\frac{dx_0}{dt} = \\frac{a}{b+x_1} - k_1x_0x_1$\n",
    "\n",
    "$\\frac{dx_1}{dt} = \\frac{a}{b+x_0} - k_1x_0x_1$"
   ]
  },
  {
   "cell_type": "code",
   "execution_count": null,
   "metadata": {},
   "outputs": [],
   "source": [
    "def dimère(x,t):\n",
    "    a = 3\n",
    "    b = 1\n",
    "    k = 1\n",
    "    dx = [0,0]\n",
    "    dx[0] = a/(b+x[1]) - (k * x[0] * x[1])\n",
    "    dx[1] = a/(b+x[0]) - (k * x[0] * x[1])\n",
    "    return(dx)\n",
    "\n",
    "t = np.linspace(0,5,100000)\n",
    "y = odeint(dimère,[0.1,0.1],t)\n",
    "\n",
    "pylab.plot(t,y)\n",
    "pylab.show()"
   ]
  },
  {
   "cell_type": "code",
   "execution_count": null,
   "metadata": {},
   "outputs": [],
   "source": [
    "def feedback(x,t):\n",
    "    d = 1\n",
    "    a = 3\n",
    "    b = 1\n",
    "    dx = 0\n",
    "    dx = a/(b+x) - d*x\n",
    "    return(dx)\n",
    "\n",
    "t = [t0]\n",
    "n = 1000\n",
    "tn = 5\n",
    "for i in range(n):\n",
    "    t.append(t0 + i*(tn-t0)/n)    \n",
    "\n",
    "y = euler(feedback,0,t)\n",
    "yy = odeint(feedback,0,t)\n",
    "\n",
    "pylab.plot(t,y,'--')\n",
    "pylab.plot(t,yy)\n",
    "pylab.show()"
   ]
  }
 ],
 "metadata": {
  "kernelspec": {
   "display_name": "Python [default]",
   "language": "python",
   "name": "python3"
  },
  "language_info": {
   "codemirror_mode": {
    "name": "ipython",
    "version": 3
   },
   "file_extension": ".py",
   "mimetype": "text/x-python",
   "name": "python",
   "nbconvert_exporter": "python",
   "pygments_lexer": "ipython3",
   "version": "3.5.2"
  }
 },
 "nbformat": 4,
 "nbformat_minor": 2
}
